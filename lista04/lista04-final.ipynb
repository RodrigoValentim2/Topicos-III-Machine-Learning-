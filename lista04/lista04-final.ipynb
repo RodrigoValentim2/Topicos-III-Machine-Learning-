{
 "cells": [
  {
   "cell_type": "code",
   "execution_count": 1,
   "metadata": {
    "_cell_guid": "b1076dfc-b9ad-4769-8c92-a6c4dae69d19",
    "_uuid": "8f2839f25d086af736a60e9eeb907d3b93b6e0e5"
   },
   "outputs": [
    {
     "name": "stderr",
     "output_type": "stream",
     "text": [
      "Using TensorFlow backend.\n"
     ]
    }
   ],
   "source": [
    "import pandas as pd\n",
    "import numpy as np\n",
    "import pandas as pd\n",
    "import csv\n",
    "from keras.preprocessing.text import Tokenizer\n",
    "from keras.preprocessing.sequence import pad_sequences\n",
    "from sklearn.model_selection import train_test_split\n",
    "\n",
    "from keras.preprocessing.text import text_to_word_sequence\n",
    "import re, os\n",
    "from keras.models import Model\n",
    "\n",
    "from keras.layers import Input\n",
    "from keras.layers import Dense\n",
    "from keras.layers import Embedding\n",
    "from keras.layers import LSTM, Bidirectional\n",
    "import matplotlib.pyplot as plt\n",
    "from nltk.corpus import stopwords\n",
    "from tqdm import tqdm\n",
    "import time\n",
    "from datetime import datetime\n",
    "import json\n",
    "import warnings\n",
    "warnings.simplefilter(\"ignore\", UserWarning)\n",
    "seed = 7\n",
    "np.random.seed(seed)"
   ]
  },
  {
   "cell_type": "code",
   "execution_count": 2,
   "metadata": {
    "_cell_guid": "79c7e3d0-c299-4dcb-8224-4455121ee9b0",
    "_uuid": "d629ff2d2480ee46fbb7e2d37f6b5fab8052498a",
    "collapsed": true
   },
   "outputs": [],
   "source": [
    "maxlen = 300 # Cuts off reviews after 100 words\n",
    "training_samples = 2000 # Trains on 200 samples\n",
    "validation_samples = 10000 # Validates on 10,000 samples\n",
    "max_words = 10000 # Considers only the top 10,000 words in the dataset"
   ]
  },
  {
   "cell_type": "code",
   "execution_count": 3,
   "metadata": {
    "_uuid": "6e49e05ea535184ffcffd26f9e211cf0b908a03f",
    "collapsed": true
   },
   "outputs": [],
   "source": [
    "# O model será exportado para este arquivo\n",
    "filename='model_saved.h5'\n",
    "epochs = 4\n",
    "# dimensionalidade do word embedding pré-treinado\n",
    "word_embedding_dim = 50\n",
    "# número de amostras a serem utilizadas em cada atualização do gradiente\n",
    "batch_size = 32\n",
    "# Reflete a quantidade máxima de palavras que iremos manter no vocabulário\n",
    "max_fatures = 10000\n",
    "# dimensão de saída da camada Embedding\n",
    "embed_dim = 128\n",
    "# limitamos o tamanho máximo de todas as sentenças\n",
    "max_sequence_length = 300\n",
    "pre_trained_wv = True\n",
    "bilstm = False\n",
    "\n",
    "def clean_str(string):\n",
    "    string = re.sub(r\"\\'s\", \" \\'s\", string)\n",
    "    string = re.sub(r\"\\'ve\", \" \\'ve\", string)\n",
    "    string = re.sub(r\"n\\'t\", \" n\\'t\", string)\n",
    "    string = re.sub(r\"\\'re\", \" \\'re\", string)\n",
    "    string = re.sub(r\"\\'d\", \" \\'d\", string)\n",
    "    string = re.sub(r\"\\'ll\", \" \\'ll\", string)\n",
    "    string = re.sub(r\",\", \" , \", string)\n",
    "    string = re.sub(r\"!\", \" ! \", string)\n",
    "    string = re.sub(r\"\\(\", \" \\( \", string)\n",
    "    string = re.sub(r\"\\)\", \" \\) \", string)\n",
    "    string = re.sub(r\"\\?\", \" \\? \", string)\n",
    "    string = re.sub(r\"\\s{2,}\", \" \", string)\n",
    "\n",
    "    cleanr = re.compile('<.*?>')\n",
    "\n",
    "    string = re.sub(r'\\d+', '', string)\n",
    "    string = re.sub(cleanr, '', string)\n",
    "    string = re.sub(\"'\", '', string)\n",
    "    string = re.sub(r'\\W+', ' ', string)\n",
    "    string = string.replace('_', '')\n",
    "\n",
    "\n",
    "    return string.strip().lower()"
   ]
  },
  {
   "cell_type": "code",
   "execution_count": 4,
   "metadata": {
    "_uuid": "039f835d459350894172a4b46dd2cbdc8b3f42d1",
    "collapsed": true
   },
   "outputs": [],
   "source": [
    "def prepare_data(data):    \n",
    "    data = data[['text_pt','sentiment']]\n",
    "\n",
    "    data['text'] = data['text_pt'].apply(lambda x: x.lower())\n",
    "    data['text'] = data['text_pt'].apply(lambda x: clean_str(x))\n",
    "    \n",
    "    stop_words = set(stopwords.words('portuguese'))\n",
    "    text = []\n",
    "    for row in data['text'].values:\n",
    "        word_list = text_to_word_sequence(row)\n",
    "        no_stop_words = [w for w in word_list if not w in stop_words]\n",
    "        no_stop_words = \" \".join(no_stop_words)\n",
    "        text.append(no_stop_words)\n",
    "\n",
    "\n",
    "    tokenizer = Tokenizer(num_words=max_fatures, split=' ')\n",
    "\n",
    "    tokenizer.fit_on_texts(text)\n",
    "    X = tokenizer.texts_to_sequences(text)  \n",
    "    \n",
    "    X = pad_sequences(X, maxlen=max_sequence_length)\n",
    "    word_index = tokenizer.word_index\n",
    "    Y = pd.get_dummies(data['sentiment']).values\n",
    "    X_train, X_test, Y_train, Y_test = train_test_split(X,Y, test_size = 0.20, random_state = 42)\n",
    "\n",
    "    return X_train, X_test, Y_train, Y_test, word_index, tokenizer\n",
    "\n",
    "\n",
    "def load_pre_trained_wv(word_index, num_words, word_embedding_dim):\n",
    "    embeddings_index = {}\n",
    "    f = open(os.path.join('../input/glove-s50/glove_s50/', 'glove_s{}.txt'.format(word_embedding_dim)), encoding='utf-8')\n",
    "    for line in tqdm(f):\n",
    "        values = line.rstrip().rsplit(' ')\n",
    "        word = values[0]\n",
    "        coefs = np.asarray(values[1:], dtype='float32')\n",
    "        embeddings_index[word] = coefs\n",
    "    f.close()\n",
    "\n",
    "    print('%s word vectors.' % len(embeddings_index))\n",
    "    \n",
    "    embedding_dim = 50\n",
    "    embedding_matrix = np.zeros((max_words, embedding_dim))\n",
    "    for word, i in word_index.items():\n",
    "        if i < max_words:\n",
    "            embedding_vector = embeddings_index.get(word)\n",
    "            if embedding_vector is not None:\n",
    "                embedding_matrix[i] = embedding_vector #Words not found in the embedding index will be all zeros.         \n",
    "\n",
    "    return embedding_matrix"
   ]
  },
  {
   "cell_type": "code",
   "execution_count": 5,
   "metadata": {
    "_uuid": "4d684cc874e1440889c320e819d3c4ce5fda3fb4"
   },
   "outputs": [
    {
     "data": {
      "text/html": [
       "<div>\n",
       "<style scoped>\n",
       "    .dataframe tbody tr th:only-of-type {\n",
       "        vertical-align: middle;\n",
       "    }\n",
       "\n",
       "    .dataframe tbody tr th {\n",
       "        vertical-align: top;\n",
       "    }\n",
       "\n",
       "    .dataframe thead th {\n",
       "        text-align: right;\n",
       "    }\n",
       "</style>\n",
       "<table border=\"1\" class=\"dataframe\">\n",
       "  <thead>\n",
       "    <tr style=\"text-align: right;\">\n",
       "      <th></th>\n",
       "      <th>id</th>\n",
       "      <th>text_en</th>\n",
       "      <th>text_pt</th>\n",
       "      <th>sentiment</th>\n",
       "    </tr>\n",
       "  </thead>\n",
       "  <tbody>\n",
       "    <tr>\n",
       "      <th>0</th>\n",
       "      <td>1</td>\n",
       "      <td>Once again Mr. Costner has dragged out a movie...</td>\n",
       "      <td>Mais uma vez, o Sr. Costner arrumou um filme p...</td>\n",
       "      <td>neg</td>\n",
       "    </tr>\n",
       "    <tr>\n",
       "      <th>1</th>\n",
       "      <td>2</td>\n",
       "      <td>This is an example of why the majority of acti...</td>\n",
       "      <td>Este é um exemplo do motivo pelo qual a maiori...</td>\n",
       "      <td>neg</td>\n",
       "    </tr>\n",
       "    <tr>\n",
       "      <th>2</th>\n",
       "      <td>3</td>\n",
       "      <td>First of all I hate those moronic rappers, who...</td>\n",
       "      <td>Primeiro de tudo eu odeio esses raps imbecis, ...</td>\n",
       "      <td>neg</td>\n",
       "    </tr>\n",
       "    <tr>\n",
       "      <th>3</th>\n",
       "      <td>4</td>\n",
       "      <td>Not even the Beatles could write songs everyon...</td>\n",
       "      <td>Nem mesmo os Beatles puderam escrever músicas ...</td>\n",
       "      <td>neg</td>\n",
       "    </tr>\n",
       "    <tr>\n",
       "      <th>4</th>\n",
       "      <td>5</td>\n",
       "      <td>Brass pictures movies is not a fitting word fo...</td>\n",
       "      <td>Filmes de fotos de latão não é uma palavra apr...</td>\n",
       "      <td>neg</td>\n",
       "    </tr>\n",
       "  </tbody>\n",
       "</table>\n",
       "</div>"
      ],
      "text/plain": [
       "   id    ...    sentiment\n",
       "0   1    ...          neg\n",
       "1   2    ...          neg\n",
       "2   3    ...          neg\n",
       "3   4    ...          neg\n",
       "4   5    ...          neg\n",
       "\n",
       "[5 rows x 4 columns]"
      ]
     },
     "execution_count": 5,
     "metadata": {},
     "output_type": "execute_result"
    }
   ],
   "source": [
    "\n",
    "data = pd.read_csv(\"../input/imdbpt/imdb1/imdb/imdb-reviews-pt-br.csv\")\n",
    "data.head()"
   ]
  },
  {
   "cell_type": "code",
   "execution_count": 6,
   "metadata": {
    "_uuid": "80cdf45d1c4c5f2b9879941fc896208d24c7cc2c"
   },
   "outputs": [
    {
     "name": "stderr",
     "output_type": "stream",
     "text": [
      "/opt/conda/lib/python3.6/site-packages/ipykernel_launcher.py:4: SettingWithCopyWarning: \n",
      "A value is trying to be set on a copy of a slice from a DataFrame.\n",
      "Try using .loc[row_indexer,col_indexer] = value instead\n",
      "\n",
      "See the caveats in the documentation: http://pandas.pydata.org/pandas-docs/stable/indexing.html#indexing-view-versus-copy\n",
      "  after removing the cwd from sys.path.\n",
      "/opt/conda/lib/python3.6/site-packages/ipykernel_launcher.py:5: SettingWithCopyWarning: \n",
      "A value is trying to be set on a copy of a slice from a DataFrame.\n",
      "Try using .loc[row_indexer,col_indexer] = value instead\n",
      "\n",
      "See the caveats in the documentation: http://pandas.pydata.org/pandas-docs/stable/indexing.html#indexing-view-versus-copy\n",
      "  \"\"\"\n"
     ]
    },
    {
     "name": "stdout",
     "output_type": "stream",
     "text": [
      "(39567, 300) (39567, 2)\n",
      "(9892, 300) (9892, 2)\n"
     ]
    }
   ],
   "source": [
    "X_train, X_test, Y_train, Y_test, word_index, tokenizer = prepare_data(data)\n",
    "print(X_train.shape,Y_train.shape)\n",
    "print(X_test.shape,Y_test.shape)"
   ]
  },
  {
   "cell_type": "markdown",
   "metadata": {},
   "source": [
    "# 1"
   ]
  },
  {
   "cell_type": "code",
   "execution_count": 7,
   "metadata": {
    "_uuid": "d33f49b32602f22ffbbdca8ba5c81099d3d0cffe"
   },
   "outputs": [
    {
     "name": "stdout",
     "output_type": "stream",
     "text": [
      "_________________________________________________________________\n",
      "Layer (type)                 Output Shape              Param #   \n",
      "=================================================================\n",
      "embedding_1 (Embedding)      (None, 300, 50)           500000    \n",
      "_________________________________________________________________\n",
      "flatten_1 (Flatten)          (None, 15000)             0         \n",
      "_________________________________________________________________\n",
      "dense_1 (Dense)              (None, 32)                480032    \n",
      "_________________________________________________________________\n",
      "dense_2 (Dense)              (None, 2)                 66        \n",
      "=================================================================\n",
      "Total params: 980,098\n",
      "Trainable params: 980,098\n",
      "Non-trainable params: 0\n",
      "_________________________________________________________________\n"
     ]
    }
   ],
   "source": [
    "from keras.models import Sequential\n",
    "from keras.layers import Embedding, Flatten, Dense\n",
    "embedding_dim = 50\n",
    "model = Sequential()\n",
    "model.add(Embedding(max_words, embedding_dim, input_length=maxlen))\n",
    "model.add(Flatten())\n",
    "model.add(Dense(32, activation='relu'))\n",
    "model.add(Dense(2, activation='softmax'))\n",
    "model.summary()"
   ]
  },
  {
   "cell_type": "code",
   "execution_count": null,
   "metadata": {
    "_uuid": "70482a202cf8a4ddf38db533f780680aac37eac9",
    "collapsed": true
   },
   "outputs": [],
   "source": [
    "print(len(word_index))\n",
    "print(num_words)\n",
    "print(word_embedding_dim)"
   ]
  },
  {
   "cell_type": "code",
   "execution_count": 8,
   "metadata": {
    "_uuid": "1326ae68ecb5c3ed6616ef26aa98a1f1aa92247c"
   },
   "outputs": [
    {
     "name": "stderr",
     "output_type": "stream",
     "text": [
      "929606it [00:18, 51148.06it/s]\n"
     ]
    },
    {
     "name": "stdout",
     "output_type": "stream",
     "text": [
      "929606 word vectors.\n"
     ]
    }
   ],
   "source": [
    "num_words = min(max_fatures, len(word_index) + 1)\n",
    "embedding_matrix = load_pre_trained_wv(word_index, num_words, word_embedding_dim)\n",
    "model.layers[0].set_weights([embedding_matrix])\n",
    "model.layers[0].trainable = False"
   ]
  },
  {
   "cell_type": "code",
   "execution_count": 9,
   "metadata": {
    "_uuid": "4b459c585e135b86eab1783511fddc034aec1f7c"
   },
   "outputs": [
    {
     "name": "stdout",
     "output_type": "stream",
     "text": [
      "Train on 39567 samples, validate on 9892 samples\n",
      "Epoch 1/10\n",
      "39567/39567 [==============================] - 6s 155us/step - loss: 0.5974 - acc: 0.6800 - val_loss: 0.6793 - val_acc: 0.6335\n",
      "Epoch 2/10\n",
      "39567/39567 [==============================] - 6s 146us/step - loss: 0.5060 - acc: 0.7523 - val_loss: 0.5676 - val_acc: 0.7171\n",
      "Epoch 3/10\n",
      "39567/39567 [==============================] - 6s 147us/step - loss: 0.4518 - acc: 0.7817 - val_loss: 0.6037 - val_acc: 0.6982\n",
      "Epoch 4/10\n",
      "39567/39567 [==============================] - 6s 146us/step - loss: 0.3869 - acc: 0.8160 - val_loss: 0.7397 - val_acc: 0.6980\n",
      "Epoch 5/10\n",
      "39567/39567 [==============================] - 6s 146us/step - loss: 0.3221 - acc: 0.8550 - val_loss: 0.7971 - val_acc: 0.6813\n",
      "Epoch 6/10\n",
      "39567/39567 [==============================] - 6s 147us/step - loss: 0.2566 - acc: 0.8869 - val_loss: 1.0042 - val_acc: 0.6838\n",
      "Epoch 7/10\n",
      "39567/39567 [==============================] - 6s 148us/step - loss: 0.1977 - acc: 0.9130 - val_loss: 1.2159 - val_acc: 0.6798\n",
      "Epoch 8/10\n",
      "39567/39567 [==============================] - 6s 147us/step - loss: 0.1524 - acc: 0.9339 - val_loss: 1.3867 - val_acc: 0.6715\n",
      "Epoch 9/10\n",
      "39567/39567 [==============================] - 6s 146us/step - loss: 0.1167 - acc: 0.9501 - val_loss: 1.6823 - val_acc: 0.6764\n",
      "Epoch 10/10\n",
      "39567/39567 [==============================] - 6s 147us/step - loss: 0.0898 - acc: 0.9616 - val_loss: 1.7592 - val_acc: 0.6750\n"
     ]
    }
   ],
   "source": [
    "model.compile(optimizer='rmsprop',\n",
    "loss='binary_crossentropy',\n",
    "metrics=['acc'])\n",
    "hist = model.fit(\n",
    "        X_train, \n",
    "        Y_train, \n",
    "        validation_data=(X_test, Y_test),\n",
    "        epochs=10,\n",
    "        batch_size=32, \n",
    "        shuffle=True,\n",
    "        verbose=1)"
   ]
  },
  {
   "cell_type": "code",
   "execution_count": 12,
   "metadata": {
    "_uuid": "de143532811f7880a0e9d44b82321adc995a8a4f"
   },
   "outputs": [
    {
     "data": {
      "image/png": "[encoded data removed]",
      "text/plain": [
       "<Figure size 432x288 with 1 Axes>"
      ]
     },
     "metadata": {
      "needs_background": "light"
     },
     "output_type": "display_data"
    },
    {
     "data": {
      "image/png": "[encoded data removed]",
      "text/plain": [
       "<Figure size 432x288 with 1 Axes>"
      ]
     },
     "metadata": {
      "needs_background": "light"
     },
     "output_type": "display_data"
    }
   ],
   "source": [
    "\n",
    "acc = hist.history['acc']\n",
    "val_acc = hist.history['val_acc']\n",
    "loss = hist.history['loss']\n",
    "val_loss = hist.history['val_loss']\n",
    "epochs = range(1, len(acc) + 1)\n",
    "plt.plot(epochs, acc, 'bo', label='Training acc')\n",
    "plt.plot(epochs, val_acc, 'b', label='Validation acc')\n",
    "plt.title('Training and validation accuracy')\n",
    "plt.legend()\n",
    "plt.figure()\n",
    "plt.plot(epochs, loss, 'bo', label='Training loss')\n",
    "plt.plot(epochs, val_loss, 'b', label='Validation loss')\n",
    "plt.title('Training and validation loss')\n",
    "plt.legend()\n",
    "plt.show()"
   ]
  },
  {
   "cell_type": "code",
   "execution_count": 10,
   "metadata": {
    "_uuid": "0c89b7ee7ebe6383b475c2df4df850446ebd8acb",
    "collapsed": true
   },
   "outputs": [],
   "source": [
    "def create_model(p):\n",
    "    embedding_dim = 50\n",
    "    model = Sequential()\n",
    "    model.add(Embedding(max_words, embedding_dim, input_length=maxlen))\n",
    "    model.add(LSTM(embedding_dim, dropout=p, name=\"lstm\"))\n",
    "    model.add(Dense(32, activation='relu'))\n",
    "    model.add(Dense(32, activation='relu'))\n",
    "    model.add(Dense(2, activation='softmax'))\n",
    "    \n",
    "    print(\"Dropout: \", p)\n",
    "    model.compile(optimizer='rmsprop',\n",
    "        loss='binary_crossentropy',\n",
    "        metrics=['acc'])\n",
    "    hist = model.fit(\n",
    "        X_train[:5000, :], \n",
    "        Y_train[:5000,:], \n",
    "        validation_data=(X_test[:2000,:], Y_test[:2000,:]),\n",
    "        epochs=10,\n",
    "        batch_size=32, \n",
    "        shuffle=True,\n",
    "        verbose=1)\n",
    "        \n",
    "    acc = hist.history['acc']\n",
    "    val_acc = hist.history['val_acc']\n",
    "    loss = hist.history['loss']\n",
    "    val_loss = hist.history['val_loss']\n",
    "    epochs = range(1, len(acc) + 1)\n",
    "    plt.plot(epochs, acc, 'bo', label='Training acc')\n",
    "    plt.plot(epochs, val_acc, 'b', label='Validation acc')\n",
    "    plt.title('Training and validation accuracy')\n",
    "    plt.legend()\n",
    "    plt.figure()\n",
    "    plt.plot(epochs, loss, 'bo', label='Training loss')\n",
    "    plt.plot(epochs, val_loss, 'b', label='Validation loss')\n",
    "    plt.title('Training and validation loss')\n",
    "    plt.legend()\n",
    "    plt.show()\n",
    "    \n",
    "    return model"
   ]
  },
  {
   "cell_type": "markdown",
   "metadata": {},
   "source": [
    "# 2. "
   ]
  },
  {
   "cell_type": "code",
   "execution_count": 13,
   "metadata": {
    "_uuid": "494f8dd16bf7cdc67a2a85c0cd414aea623b81af"
   },
   "outputs": [
    {
     "name": "stdout",
     "output_type": "stream",
     "text": [
      "Dropout:  0.3\n",
      "Train on 5000 samples, validate on 2000 samples\n",
      "Epoch 1/10\n",
      "5000/5000 [==============================] - 124s 25ms/step - loss: 0.5708 - acc: 0.7002 - val_loss: 0.4843 - val_acc: 0.7720\n",
      "Epoch 2/10\n",
      "5000/5000 [==============================] - 124s 25ms/step - loss: 0.2849 - acc: 0.8860 - val_loss: 0.4474 - val_acc: 0.7980\n",
      "Epoch 3/10\n",
      "5000/5000 [==============================] - 122s 24ms/step - loss: 0.1914 - acc: 0.9308 - val_loss: 0.4242 - val_acc: 0.8245\n",
      "Epoch 4/10\n",
      "5000/5000 [==============================] - 123s 25ms/step - loss: 0.1313 - acc: 0.9538 - val_loss: 0.4803 - val_acc: 0.8075\n",
      "Epoch 5/10\n",
      "5000/5000 [==============================] - 123s 25ms/step - loss: 0.0869 - acc: 0.9706 - val_loss: 0.6085 - val_acc: 0.8200\n",
      "Epoch 6/10\n",
      "5000/5000 [==============================] - 123s 25ms/step - loss: 0.0671 - acc: 0.9782 - val_loss: 0.6590 - val_acc: 0.8130\n",
      "Epoch 7/10\n",
      "5000/5000 [==============================] - 124s 25ms/step - loss: 0.0441 - acc: 0.9864 - val_loss: 0.7101 - val_acc: 0.8195\n",
      "Epoch 8/10\n",
      "5000/5000 [==============================] - 122s 24ms/step - loss: 0.0354 - acc: 0.9898 - val_loss: 0.8299 - val_acc: 0.8155\n",
      "Epoch 9/10\n",
      "5000/5000 [==============================] - 123s 25ms/step - loss: 0.0306 - acc: 0.9914 - val_loss: 0.9460 - val_acc: 0.8145\n",
      "Epoch 10/10\n",
      "5000/5000 [==============================] - 123s 25ms/step - loss: 0.0172 - acc: 0.9948 - val_loss: 1.2139 - val_acc: 0.8080\n"
     ]
    },
    {
     "data": {
      "image/png": "[encoded data removed]",
      "text/plain": [
       "<Figure size 432x288 with 1 Axes>"
      ]
     },
     "metadata": {
      "needs_background": "light"
     },
     "output_type": "display_data"
    },
    {
     "data": {
      "image/png": "[encoded data removed]",
      "text/plain": [
       "<Figure size 432x288 with 1 Axes>"
      ]
     },
     "metadata": {
      "needs_background": "light"
     },
     "output_type": "display_data"
    },
    {
     "name": "stdout",
     "output_type": "stream",
     "text": [
      "Dropout:  0.4\n",
      "Train on 5000 samples, validate on 2000 samples\n",
      "Epoch 1/10\n",
      "5000/5000 [==============================] - 124s 25ms/step - loss: 0.6218 - acc: 0.6546 - val_loss: 0.4279 - val_acc: 0.8100\n",
      "Epoch 2/10\n",
      "5000/5000 [==============================] - 124s 25ms/step - loss: 0.3245 - acc: 0.8666 - val_loss: 0.5800 - val_acc: 0.7455\n",
      "Epoch 3/10\n",
      "5000/5000 [==============================] - 122s 24ms/step - loss: 0.2078 - acc: 0.9218 - val_loss: 0.4932 - val_acc: 0.8340\n",
      "Epoch 4/10\n",
      "5000/5000 [==============================] - 123s 25ms/step - loss: 0.1472 - acc: 0.9466 - val_loss: 0.5268 - val_acc: 0.8310\n",
      "Epoch 5/10\n",
      "5000/5000 [==============================] - 123s 25ms/step - loss: 0.1223 - acc: 0.9616 - val_loss: 0.5471 - val_acc: 0.8070\n",
      "Epoch 6/10\n",
      "5000/5000 [==============================] - 123s 25ms/step - loss: 0.0844 - acc: 0.9732 - val_loss: 0.6369 - val_acc: 0.8205\n",
      "Epoch 7/10\n",
      "5000/5000 [==============================] - 123s 25ms/step - loss: 0.0614 - acc: 0.9794 - val_loss: 0.6809 - val_acc: 0.8180\n",
      "Epoch 8/10\n",
      "5000/5000 [==============================] - 123s 25ms/step - loss: 0.0489 - acc: 0.9838 - val_loss: 0.7245 - val_acc: 0.8170\n",
      "Epoch 9/10\n",
      "5000/5000 [==============================] - 123s 25ms/step - loss: 0.0410 - acc: 0.9870 - val_loss: 0.9037 - val_acc: 0.8120\n",
      "Epoch 10/10\n",
      "5000/5000 [==============================] - 123s 25ms/step - loss: 0.0310 - acc: 0.9912 - val_loss: 1.5000 - val_acc: 0.7900\n"
     ]
    },
    {
     "data": {
      "image/png": "[encoded data removed]",
      "text/plain": [
       "<Figure size 432x288 with 1 Axes>"
      ]
     },
     "metadata": {
      "needs_background": "light"
     },
     "output_type": "display_data"
    },
    {
     "data": {
      "image/png": "[encoded data removed]",
      "text/plain": [
       "<Figure size 432x288 with 1 Axes>"
      ]
     },
     "metadata": {
      "needs_background": "light"
     },
     "output_type": "display_data"
    },
    {
     "name": "stdout",
     "output_type": "stream",
     "text": [
      "Dropout:  0.5\n",
      "Train on 5000 samples, validate on 2000 samples\n",
      "Epoch 1/10\n",
      "5000/5000 [==============================] - 124s 25ms/step - loss: 0.5926 - acc: 0.6668 - val_loss: 0.4170 - val_acc: 0.8115\n",
      "Epoch 2/10\n",
      "5000/5000 [==============================] - 124s 25ms/step - loss: 0.3194 - acc: 0.8718 - val_loss: 0.4071 - val_acc: 0.8450\n",
      "Epoch 3/10\n",
      "5000/5000 [==============================] - 123s 25ms/step - loss: 0.2119 - acc: 0.9234 - val_loss: 0.5138 - val_acc: 0.8085\n",
      "Epoch 4/10\n",
      "5000/5000 [==============================] - 124s 25ms/step - loss: 0.1578 - acc: 0.9436 - val_loss: 0.4621 - val_acc: 0.8345\n",
      "Epoch 5/10\n",
      "5000/5000 [==============================] - 123s 25ms/step - loss: 0.1216 - acc: 0.9574 - val_loss: 0.4353 - val_acc: 0.8305\n",
      "Epoch 6/10\n",
      "5000/5000 [==============================] - 123s 25ms/step - loss: 0.0883 - acc: 0.9684 - val_loss: 0.5717 - val_acc: 0.8260\n",
      "Epoch 7/10\n",
      "5000/5000 [==============================] - 123s 25ms/step - loss: 0.0720 - acc: 0.9764 - val_loss: 0.6684 - val_acc: 0.8230\n",
      "Epoch 8/10\n",
      "5000/5000 [==============================] - 124s 25ms/step - loss: 0.0667 - acc: 0.9814 - val_loss: 0.7872 - val_acc: 0.8240\n",
      "Epoch 9/10\n",
      "5000/5000 [==============================] - 123s 25ms/step - loss: 0.0568 - acc: 0.9838 - val_loss: 0.6967 - val_acc: 0.8115\n",
      "Epoch 10/10\n",
      "5000/5000 [==============================] - 123s 25ms/step - loss: 0.0501 - acc: 0.9868 - val_loss: 0.8252 - val_acc: 0.8120\n"
     ]
    },
    {
     "data": {
      "image/png": "[encoded data removed]",
      "text/plain": [
       "<Figure size 432x288 with 1 Axes>"
      ]
     },
     "metadata": {
      "needs_background": "light"
     },
     "output_type": "display_data"
    },
    {
     "data": {
      "image/png": "[encoded data removed]",
      "text/plain": [
       "<Figure size 432x288 with 1 Axes>"
      ]
     },
     "metadata": {
      "needs_background": "light"
     },
     "output_type": "display_data"
    }
   ],
   "source": [
    "drop = [0.3, 0.4, 0.5]\n",
    "models = []\n",
    "for d in drop:\n",
    "    m = create_model(d)\n",
    "    models.append(m)   "
   ]
  },
  {
   "cell_type": "code",
   "execution_count": null,
   "metadata": {
    "_uuid": "7e169e2583d18a564d738136153007c77314a859",
    "collapsed": true
   },
   "outputs": [],
   "source": [
    "def pred(texto):\n",
    "    model = models[0]\n",
    "    sentence = clean_str(texto)\n",
    "    new_text = [sentence]\n",
    "    new_text = tokenizer.texts_to_sequences(new_text)\n",
    "    new_text = pad_sequences(new_text, maxlen=max_sequence_length, dtype='int32', value=0)\n",
    "    sentiment = model.predict(new_text,batch_size=1,verbose = 2)[0]\n",
    "    if(np.argmax(sentiment) == 0):\n",
    "        pred_proba = \"%.2f%%\" % (sentiment[0]*100)\n",
    "        print(\"negativo => \", pred_proba)\n",
    "    elif (np.argmax(sentiment) == 1):\n",
    "        pred_proba = \"%.2f%%\" % (sentiment[1]*100)\n",
    "        print(\"positivo => \", pred_proba)"
   ]
  },
  {
   "cell_type": "code",
   "execution_count": 20,
   "metadata": {
    "_uuid": "e17e5ede28f38536819248256a7cddb836a4296c"
   },
   "outputs": [
    {
     "name": "stdout",
     "output_type": "stream",
     "text": [
      "negativo =>  84.65%\n"
     ]
    }
   ],
   "source": [
    "pred(\"O filme é ruim\")"
   ]
  },
  {
   "cell_type": "code",
   "execution_count": 26,
   "metadata": {
    "_uuid": "e140805daa016fd2c29ed79bfc1868297744614a"
   },
   "outputs": [
    {
     "name": "stdout",
     "output_type": "stream",
     "text": [
      "positivo =>  93.51%\n"
     ]
    }
   ],
   "source": [
    "pred(\"O filme é maravilhoso\")"
   ]
  },
  {
   "cell_type": "code",
   "execution_count": 17,
   "metadata": {
    "_uuid": "93e8ab5b56f19c634881856e740f4c8b37037372"
   },
   "outputs": [
    {
     "name": "stdout",
     "output_type": "stream",
     "text": [
      "negativo =>  59.06%\n"
     ]
    }
   ],
   "source": [
    "pred(\"O filme não presta\")"
   ]
  },
  {
   "cell_type": "markdown",
   "metadata": {},
   "source": [
    "# 3"
   ]
  },
  {
   "cell_type": "code",
   "execution_count": 18,
   "metadata": {
    "_uuid": "b3e23749df766a7fd330f3bad57d30e236db8df1"
   },
   "outputs": [
    {
     "name": "stdout",
     "output_type": "stream",
     "text": [
      "_________________________________________________________________\n",
      "Layer (type)                 Output Shape              Param #   \n",
      "=================================================================\n",
      "embedding_6 (Embedding)      (None, 300, 50)           500000    \n",
      "_________________________________________________________________\n",
      "bidirectional_1 (Bidirection (None, 100)               40400     \n",
      "_________________________________________________________________\n",
      "dense_15 (Dense)             (None, 2)                 202       \n",
      "=================================================================\n",
      "Total params: 540,602\n",
      "Trainable params: 540,602\n",
      "Non-trainable params: 0\n",
      "_________________________________________________________________\n"
     ]
    }
   ],
   "source": [
    "embedding_dim = 50\n",
    "model = Sequential()\n",
    "model.add(Embedding(max_words, embedding_dim, input_length=maxlen))\n",
    "model.add(Bidirectional(LSTM(embedding_dim, name=\"lstm\")))\n",
    "model.add(Dense(2, activation='softmax'))\n",
    "model.summary()"
   ]
  },
  {
   "cell_type": "code",
   "execution_count": 27,
   "metadata": {
    "_uuid": "87748bf93e2edd111cc9643f9dc80a000effeed8"
   },
   "outputs": [
    {
     "name": "stdout",
     "output_type": "stream",
     "text": [
      "Train on 5000 samples, validate on 200 samples\n",
      "Epoch 1/10\n",
      "5000/5000 [==============================] - 208s 42ms/step - loss: 0.2640 - acc: 0.8986 - val_loss: 0.4438 - val_acc: 0.7800\n",
      "Epoch 2/10\n",
      "5000/5000 [==============================] - 207s 41ms/step - loss: 0.1554 - acc: 0.9466 - val_loss: 0.4933 - val_acc: 0.8100\n",
      "Epoch 3/10\n",
      "5000/5000 [==============================] - 207s 41ms/step - loss: 0.0987 - acc: 0.9694 - val_loss: 0.5101 - val_acc: 0.8300\n",
      "Epoch 4/10\n",
      "5000/5000 [==============================] - 206s 41ms/step - loss: 0.0599 - acc: 0.9818 - val_loss: 0.8480 - val_acc: 0.7900\n",
      "Epoch 5/10\n",
      "5000/5000 [==============================] - 207s 41ms/step - loss: 0.0402 - acc: 0.9872 - val_loss: 0.6777 - val_acc: 0.8000\n",
      "Epoch 6/10\n",
      "5000/5000 [==============================] - 206s 41ms/step - loss: 0.0287 - acc: 0.9920 - val_loss: 0.8125 - val_acc: 0.7800\n",
      "Epoch 7/10\n",
      "5000/5000 [==============================] - 205s 41ms/step - loss: 0.0229 - acc: 0.9946 - val_loss: 0.9807 - val_acc: 0.7700\n",
      "Epoch 8/10\n",
      "5000/5000 [==============================] - 206s 41ms/step - loss: 0.0122 - acc: 0.9968 - val_loss: 1.1876 - val_acc: 0.7500\n",
      "Epoch 9/10\n",
      "5000/5000 [==============================] - 204s 41ms/step - loss: 0.0049 - acc: 0.9992 - val_loss: 1.5998 - val_acc: 0.7500\n",
      "Epoch 10/10\n",
      "5000/5000 [==============================] - 206s 41ms/step - loss: 0.0194 - acc: 0.9970 - val_loss: 2.0287 - val_acc: 0.7250\n"
     ]
    }
   ],
   "source": [
    "model.compile(optimizer='rmsprop',\n",
    "loss='binary_crossentropy',\n",
    "metrics=['acc'])\n",
    "hist = model.fit(\n",
    "        X_train[:5000,:], \n",
    "        Y_train[:5000,:], \n",
    "        validation_data=(X_test[:200,:], Y_test[:200,:]),\n",
    "        epochs=10,\n",
    "        batch_size=32, \n",
    "        shuffle=True,\n",
    "        verbose=1)"
   ]
  },
  {
   "cell_type": "code",
   "execution_count": 29,
   "metadata": {
    "_uuid": "208962f8e77b1ab4cc82a1e8ad77179261817c6e"
   },
   "outputs": [
    {
     "data": {
      "image/png": "[encoded data removed]",
      "text/plain": [
       "<Figure size 432x288 with 1 Axes>"
      ]
     },
     "metadata": {
      "needs_background": "light"
     },
     "output_type": "display_data"
    },
    {
     "data": {
      "image/png": "[encoded data removed]",
      "text/plain": [
       "<Figure size 432x288 with 1 Axes>"
      ]
     },
     "metadata": {
      "needs_background": "light"
     },
     "output_type": "display_data"
    }
   ],
   "source": [
    "acc = hist.history['acc']\n",
    "val_acc = hist.history['val_acc']\n",
    "loss = hist.history['loss']\n",
    "val_loss = hist.history['val_loss']\n",
    "epochs = range(1, len(acc) + 1)\n",
    "plt.plot(epochs, acc, 'bo', label='Training acc')\n",
    "plt.plot(epochs, val_acc, 'b', label='Validation acc')\n",
    "plt.title('Training and validation accuracy')\n",
    "plt.legend()\n",
    "plt.figure()\n",
    "plt.plot(epochs, loss, 'bo', label='Training loss')\n",
    "plt.plot(epochs, val_loss, 'b', label='Validation loss')\n",
    "plt.title('Training and validation loss')\n",
    "plt.legend()\n",
    "plt.show()"
   ]
  },
  {
   "cell_type": "code",
   "execution_count": null,
   "metadata": {
    "_uuid": "b2a3484a630305e9f4e7ed6a4ad7a5e35e4727cd",
    "collapsed": true
   },
   "outputs": [],
   "source": []
  }
 ],
 "metadata": {
  "kernelspec": {
   "display_name": "Python 3",
   "language": "python",
   "name": "python3"
  },
  "language_info": {
   "codemirror_mode": {
    "name": "ipython",
    "version": 3
   },
   "file_extension": ".py",
   "mimetype": "text/x-python",
   "name": "python",
   "nbconvert_exporter": "python",
   "pygments_lexer": "ipython3",
   "version": "3.6.5"
  }
 },
 "nbformat": 4,
 "nbformat_minor": 1
}
