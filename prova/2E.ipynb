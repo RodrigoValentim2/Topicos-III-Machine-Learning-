{
 "cells": [
  {
   "cell_type": "code",
   "execution_count": 1,
   "metadata": {
    "_cell_guid": "b1076dfc-b9ad-4769-8c92-a6c4dae69d19",
    "_uuid": "8f2839f25d086af736a60e9eeb907d3b93b6e0e5"
   },
   "outputs": [
    {
     "name": "stderr",
     "output_type": "stream",
     "text": [
      "Using TensorFlow backend.\n"
     ]
    }
   ],
   "source": [
    "from keras.datasets import mnist\n",
    "from keras.models import Sequential, Model\n",
    "from keras.layers import Dense, Dropout, Activation, Flatten, BatchNormalization, merge, Input, concatenate, add\n",
    "from keras.layers import Conv2D, MaxPooling2D,MaxPool2D, ZeroPadding2D, AveragePooling2D, GlobalAveragePooling2D, BatchNormalization\n",
    "from keras.utils import np_utils\n",
    "from keras.models import model_from_json\n",
    "from keras import backend as K\n",
    "from keras.preprocessing import image\n",
    "from keras.optimizers import SGD, RMSprop\n",
    "from keras.utils.data_utils import get_file\n",
    "import random\n",
    "from keras.applications import VGG16, ResNet50, VGG19\n",
    "import os\n",
    "import itertools\n",
    "import cv2\n",
    "from sklearn.metrics import log_loss, confusion_matrix\n",
    "import numpy as np\n",
    "import tensorflow as tf\n",
    "import matplotlib.pyplot as plt\n",
    "%matplotlib inline\n",
    "import os\n",
    "import warnings\n",
    "warnings.simplefilter(\"ignore\", UserWarning)"
   ]
  },
  {
   "cell_type": "code",
   "execution_count": 12,
   "metadata": {
    "_cell_guid": "79c7e3d0-c299-4dcb-8224-4455121ee9b0",
    "_uuid": "d629ff2d2480ee46fbb7e2d37f6b5fab8052498a"
   },
   "outputs": [
    {
     "name": "stdout",
     "output_type": "stream",
     "text": [
      "Found 11745 images belonging to 10 classes.\n",
      "Found 2066 images belonging to 10 classes.\n"
     ]
    }
   ],
   "source": [
    "\n",
    "from keras.preprocessing.image import ImageDataGenerator\n",
    "image_width = 64\n",
    "image_height = 64\n",
    "\n",
    "img_rows =  224\n",
    "img_cols =  224\n",
    "image_size = (image_width, image_height)\n",
    "\n",
    "data_datagen = ImageDataGenerator(rescale=1.0/255,  validation_split=0.15, featurewise_center=False,  # set input mean to 0 over the dataset\n",
    "        samplewise_center=False,  # set each sample mean to 0\n",
    "        featurewise_std_normalization=False,  # divide inputs by std of the dataset\n",
    "        samplewise_std_normalization=False,  # divide each input by its std\n",
    "        zca_whitening=False,  # apply ZCA whitening\n",
    "        rotation_range=10,  # randomly rotate images in the range (degrees, 0 to 180)\n",
    "        zoom_range = 0.1, # Randomly zoom image \n",
    "        width_shift_range=0.1,  # randomly shift images horizontally (fraction of total width)\n",
    "        height_shift_range=0.1,  # randomly shift images vertically (fraction of total height)\n",
    "        horizontal_flip=True,  # randomly flip images\n",
    "        vertical_flip=False)\n",
    "\n",
    "train_generator = data_datagen.flow_from_directory(\n",
    "        '../input/simpsons_dataset/simpsons_dataset',  # this is the target directory\n",
    "        target_size=image_size,  # all images will be resized to 224x224\n",
    "        batch_size=16,\n",
    "        class_mode='categorical',\n",
    "         subset='training')\n",
    "\n",
    "validation_generator = data_datagen.flow_from_directory(\n",
    "        '../input/simpsons_dataset/simpsons_dataset',  # this is the target directory\n",
    "        target_size=image_size,  # all images will be resized to 224x224\n",
    "        batch_size=16,\n",
    "        class_mode='categorical',\n",
    "         subset='validation')\n"
   ]
  },
  {
   "cell_type": "code",
   "execution_count": 13,
   "metadata": {
    "_uuid": "2a781c59a2e719f2b856b946c343d1842f5f26d8",
    "collapsed": true
   },
   "outputs": [],
   "source": [
    "conv_base = VGG19(weights='imagenet',  include_top=False, input_shape=(64, 64,3))"
   ]
  },
  {
   "cell_type": "code",
   "execution_count": 14,
   "metadata": {
    "_uuid": "b73ba2b5ece3c7787de4bc885908ec27658b5639"
   },
   "outputs": [
    {
     "name": "stdout",
     "output_type": "stream",
     "text": [
      "0 input_2\n",
      "1 block1_conv1\n",
      "2 block1_conv2\n",
      "3 block1_pool\n",
      "4 block2_conv1\n",
      "5 block2_conv2\n",
      "6 block2_pool\n",
      "7 block3_conv1\n",
      "8 block3_conv2\n",
      "9 block3_conv3\n",
      "10 block3_conv4\n",
      "11 block3_pool\n",
      "12 block4_conv1\n",
      "13 block4_conv2\n",
      "14 block4_conv3\n",
      "15 block4_conv4\n",
      "16 block4_pool\n",
      "17 block5_conv1\n",
      "18 block5_conv2\n",
      "19 block5_conv3\n",
      "20 block5_conv4\n",
      "21 block5_pool\n"
     ]
    }
   ],
   "source": [
    "for i,layer in enumerate(conv_base.layers):\n",
    "    print(i,layer.name)"
   ]
  },
  {
   "cell_type": "code",
   "execution_count": 15,
   "metadata": {
    "_uuid": "d935cd3a1540b26e04252779c0af35a89b383313",
    "collapsed": true
   },
   "outputs": [],
   "source": [
    "def vgg19_pretrained_model(model_vgg):\n",
    "    model = Sequential()\n",
    "    model.add(model_vgg)\n",
    "    model.add(BatchNormalization())\n",
    "    model.add(Flatten())\n",
    "    model.add(Dense(256, activation = \"relu\"))\n",
    "    model.add(Dense(10, activation='softmax'))      \n",
    "    set_trainable = False\n",
    "    for layer in model_vgg.layers:\n",
    "        if layer.name == 'block5_conv3' or layer.name == 'block1_conv2':\n",
    "             layer.trainable = True     \n",
    "    model.compile(loss='categorical_crossentropy', optimizer=RMSprop(lr=0.001), metrics=['acc'])\n",
    "    \n",
    "    \n",
    "    \n",
    "\n",
    "    return model"
   ]
  },
  {
   "cell_type": "code",
   "execution_count": 16,
   "metadata": {
    "_uuid": "59f75e91b6aefcddf97775d6d35ef66afc978e27",
    "collapsed": true
   },
   "outputs": [],
   "source": [
    "model = vgg19_pretrained_model(conv_base)"
   ]
  },
  {
   "cell_type": "code",
   "execution_count": 17,
   "metadata": {
    "_uuid": "a2bc221092b68727e25260b912afbbbd7082a7ba"
   },
   "outputs": [
    {
     "name": "stdout",
     "output_type": "stream",
     "text": [
      "Epoch 1/50\n",
      "91/91 [==============================] - 13s 145ms/step - loss: 2.4094 - acc: 0.1415 - val_loss: 15.1737 - val_acc: 0.0586\n",
      "Epoch 2/50\n",
      "91/91 [==============================] - 11s 118ms/step - loss: 2.2706 - acc: 0.1806 - val_loss: 12.1685 - val_acc: 0.0742\n",
      "Epoch 3/50\n",
      "91/91 [==============================] - 11s 118ms/step - loss: 2.1210 - acc: 0.2308 - val_loss: 3.4481 - val_acc: 0.1250\n",
      "Epoch 4/50\n",
      "91/91 [==============================] - 11s 118ms/step - loss: 2.0859 - acc: 0.2452 - val_loss: 2.6864 - val_acc: 0.1836\n",
      "Epoch 5/50\n",
      "91/91 [==============================] - 11s 119ms/step - loss: 2.0212 - acc: 0.2720 - val_loss: 2.5437 - val_acc: 0.1562\n",
      "Epoch 6/50\n",
      "91/91 [==============================] - 11s 118ms/step - loss: 1.9343 - acc: 0.3056 - val_loss: 4.2794 - val_acc: 0.1602\n",
      "Epoch 7/50\n",
      "91/91 [==============================] - 11s 117ms/step - loss: 1.9215 - acc: 0.3029 - val_loss: 4.1152 - val_acc: 0.1562\n",
      "Epoch 8/50\n",
      "91/91 [==============================] - 11s 119ms/step - loss: 1.8941 - acc: 0.3221 - val_loss: 3.3206 - val_acc: 0.2617\n",
      "Epoch 9/50\n",
      "91/91 [==============================] - 11s 117ms/step - loss: 1.8577 - acc: 0.3495 - val_loss: 2.4247 - val_acc: 0.2769\n",
      "Epoch 10/50\n",
      "91/91 [==============================] - 11s 118ms/step - loss: 1.8150 - acc: 0.3400 - val_loss: 2.9891 - val_acc: 0.1953\n",
      "Epoch 11/50\n",
      "91/91 [==============================] - 11s 118ms/step - loss: 1.7791 - acc: 0.3736 - val_loss: 4.6070 - val_acc: 0.2500\n",
      "Epoch 12/50\n",
      "91/91 [==============================] - 11s 119ms/step - loss: 1.7746 - acc: 0.3654 - val_loss: 2.1273 - val_acc: 0.3086\n",
      "Epoch 13/50\n",
      "91/91 [==============================] - 11s 119ms/step - loss: 1.7554 - acc: 0.3764 - val_loss: 2.3707 - val_acc: 0.3281\n",
      "Epoch 14/50\n",
      "91/91 [==============================] - 11s 118ms/step - loss: 1.7217 - acc: 0.3949 - val_loss: 2.1886 - val_acc: 0.3203\n",
      "Epoch 15/50\n",
      "91/91 [==============================] - 11s 119ms/step - loss: 1.6556 - acc: 0.4093 - val_loss: 1.8351 - val_acc: 0.3320\n",
      "Epoch 16/50\n",
      "91/91 [==============================] - 11s 118ms/step - loss: 1.6873 - acc: 0.4121 - val_loss: 1.8553 - val_acc: 0.3320\n",
      "Epoch 17/50\n",
      "91/91 [==============================] - 11s 117ms/step - loss: 1.6097 - acc: 0.4238 - val_loss: 1.9250 - val_acc: 0.2686\n",
      "Epoch 18/50\n",
      "91/91 [==============================] - 11s 118ms/step - loss: 1.5677 - acc: 0.4409 - val_loss: 2.2842 - val_acc: 0.2695\n",
      "Epoch 19/50\n",
      "91/91 [==============================] - 11s 118ms/step - loss: 1.5878 - acc: 0.4245 - val_loss: 1.9813 - val_acc: 0.3828\n",
      "Epoch 20/50\n",
      "91/91 [==============================] - 11s 119ms/step - loss: 1.5743 - acc: 0.4341 - val_loss: 1.7182 - val_acc: 0.4062\n",
      "Epoch 21/50\n",
      "91/91 [==============================] - 11s 119ms/step - loss: 1.6148 - acc: 0.4135 - val_loss: 2.7438 - val_acc: 0.2500\n",
      "Epoch 22/50\n",
      "91/91 [==============================] - 11s 119ms/step - loss: 1.5406 - acc: 0.4313 - val_loss: 1.8017 - val_acc: 0.3984\n",
      "Epoch 23/50\n",
      "91/91 [==============================] - 11s 119ms/step - loss: 1.5161 - acc: 0.4560 - val_loss: 1.7358 - val_acc: 0.4375\n",
      "Epoch 24/50\n",
      "91/91 [==============================] - 11s 121ms/step - loss: 1.4989 - acc: 0.4883 - val_loss: 1.6164 - val_acc: 0.4844\n",
      "Epoch 25/50\n",
      "91/91 [==============================] - 11s 118ms/step - loss: 1.4743 - acc: 0.4843 - val_loss: 1.8776 - val_acc: 0.4174\n",
      "Epoch 26/50\n",
      "91/91 [==============================] - 11s 119ms/step - loss: 1.4181 - acc: 0.4979 - val_loss: 1.6111 - val_acc: 0.4141\n",
      "Epoch 27/50\n",
      "91/91 [==============================] - 11s 118ms/step - loss: 1.4088 - acc: 0.4815 - val_loss: 1.4262 - val_acc: 0.5273\n",
      "Epoch 28/50\n",
      "91/91 [==============================] - 11s 121ms/step - loss: 1.3837 - acc: 0.5240 - val_loss: 1.8449 - val_acc: 0.4297\n",
      "Epoch 29/50\n",
      "91/91 [==============================] - 11s 118ms/step - loss: 1.3447 - acc: 0.5364 - val_loss: 1.5777 - val_acc: 0.4375\n",
      "Epoch 30/50\n",
      "91/91 [==============================] - 11s 120ms/step - loss: 1.3150 - acc: 0.5446 - val_loss: 1.5916 - val_acc: 0.4375\n",
      "Epoch 31/50\n",
      "91/91 [==============================] - 11s 119ms/step - loss: 1.3382 - acc: 0.5227 - val_loss: 1.4509 - val_acc: 0.5352\n",
      "Epoch 32/50\n",
      "91/91 [==============================] - 11s 121ms/step - loss: 1.2763 - acc: 0.5694 - val_loss: 1.5039 - val_acc: 0.4648\n",
      "Epoch 33/50\n",
      "91/91 [==============================] - 11s 118ms/step - loss: 1.2695 - acc: 0.5619 - val_loss: 1.9034 - val_acc: 0.3843\n",
      "Epoch 34/50\n",
      "91/91 [==============================] - 11s 119ms/step - loss: 1.2103 - acc: 0.5755 - val_loss: 1.3053 - val_acc: 0.5938\n",
      "Epoch 35/50\n",
      "91/91 [==============================] - 11s 120ms/step - loss: 1.1895 - acc: 0.5962 - val_loss: 2.4622 - val_acc: 0.2656\n",
      "Epoch 36/50\n",
      "91/91 [==============================] - 11s 121ms/step - loss: 1.2100 - acc: 0.5831 - val_loss: 1.4944 - val_acc: 0.5820\n",
      "Epoch 37/50\n",
      "91/91 [==============================] - 11s 119ms/step - loss: 1.2337 - acc: 0.5749 - val_loss: 6.5727 - val_acc: 0.2930\n",
      "Epoch 38/50\n",
      "91/91 [==============================] - 11s 119ms/step - loss: 1.1854 - acc: 0.5975 - val_loss: 1.6628 - val_acc: 0.4766\n",
      "Epoch 39/50\n",
      "91/91 [==============================] - 11s 118ms/step - loss: 1.1614 - acc: 0.5900 - val_loss: 1.5614 - val_acc: 0.5781\n",
      "Epoch 40/50\n",
      "91/91 [==============================] - 11s 119ms/step - loss: 1.1549 - acc: 0.6154 - val_loss: 2.2083 - val_acc: 0.3945\n",
      "Epoch 41/50\n",
      "91/91 [==============================] - 11s 118ms/step - loss: 1.1436 - acc: 0.6126 - val_loss: 1.3870 - val_acc: 0.5661\n",
      "Epoch 42/50\n",
      "91/91 [==============================] - 11s 119ms/step - loss: 1.0990 - acc: 0.6271 - val_loss: 1.6333 - val_acc: 0.5391\n",
      "Epoch 43/50\n",
      "91/91 [==============================] - 11s 118ms/step - loss: 1.0947 - acc: 0.6408 - val_loss: 2.2373 - val_acc: 0.4414\n",
      "Epoch 44/50\n",
      "91/91 [==============================] - 11s 118ms/step - loss: 1.0474 - acc: 0.6463 - val_loss: 1.5060 - val_acc: 0.5078\n",
      "Epoch 45/50\n",
      "91/91 [==============================] - 11s 120ms/step - loss: 1.0629 - acc: 0.6360 - val_loss: 1.5186 - val_acc: 0.5898\n",
      "Epoch 46/50\n",
      "91/91 [==============================] - 11s 119ms/step - loss: 1.1706 - acc: 0.6202 - val_loss: 1.2377 - val_acc: 0.5781\n",
      "Epoch 47/50\n",
      "91/91 [==============================] - 11s 120ms/step - loss: 1.0532 - acc: 0.6435 - val_loss: 1.2500 - val_acc: 0.5898\n",
      "Epoch 48/50\n",
      "91/91 [==============================] - 11s 121ms/step - loss: 1.0179 - acc: 0.6470 - val_loss: 1.5175 - val_acc: 0.5391\n",
      "Epoch 49/50\n",
      "91/91 [==============================] - 11s 117ms/step - loss: 1.0950 - acc: 0.6155 - val_loss: 1.0619 - val_acc: 0.6446\n",
      "Epoch 50/50\n",
      "91/91 [==============================] - 11s 119ms/step - loss: 0.9971 - acc: 0.6635 - val_loss: 1.1336 - val_acc: 0.6250\n"
     ]
    }
   ],
   "source": [
    "N_TRAIN =  11745 \n",
    "N_VALIDA = 2066 \n",
    "history = model.fit_generator(\n",
    "        train_generator,\n",
    "        steps_per_epoch=(N_TRAIN // 128),\n",
    "        epochs=50,\n",
    "          validation_data=validation_generator,\n",
    "        validation_steps= N_VALIDA//128)"
   ]
  },
  {
   "cell_type": "code",
   "execution_count": 18,
   "metadata": {
    "_uuid": "2ecacfdb04f44cc7c9fe47b67640ade61ef27ed7"
   },
   "outputs": [
    {
     "data": {
      "image/png": "[encoded data removed]",
      "text/plain": [
       "<Figure size 432x288 with 1 Axes>"
      ]
     },
     "metadata": {
      "needs_background": "light"
     },
     "output_type": "display_data"
    },
    {
     "data": {
      "image/png": "[encoded data removed]",
      "text/plain": [
       "<Figure size 432x288 with 1 Axes>"
      ]
     },
     "metadata": {
      "needs_background": "light"
     },
     "output_type": "display_data"
    }
   ],
   "source": [
    "acc = history.history['acc']\n",
    "val_acc = history.history['val_acc']\n",
    "loss = history.history['loss']\n",
    "val_loss = history.history['val_loss']\n",
    "epochs = range(1, len(acc) + 1)\n",
    "plt.plot(epochs, acc, 'bo', label='Training acc')\n",
    "plt.plot(epochs, val_acc, 'b', label='Validation acc')\n",
    "plt.title('Training and validation accuracy')\n",
    "plt.legend(loc='best')\n",
    "\n",
    "plt.figure()\n",
    "plt.plot(epochs, loss, 'bo', label='Training loss')\n",
    "plt.plot(epochs, val_loss, 'b', label='Validation loss')\n",
    "plt.title('Training and validation loss')\n",
    "plt.legend(loc='best');"
   ]
  },
  {
   "cell_type": "markdown",
   "metadata": {
    "_uuid": "c7ae0777216385960bdf1e2bd0b8b692957e40c3"
   },
   "source": [
    "# Comparativo\n",
    "\n",
    "* As redes anterios eram bem menores (poucas camadas convolucionais) o que não possibilitou a rede aprender bem com os dados. A VGG19 tem 19 camadas convolucionais já treinada no ImageNet, entretanto, o dataset do simpsons é bem diferente do que a rede VGG19 foi treinada o que fez a gente usar a técnica Fine Tunning forçando a rede treinar algumas camadas e  modificando o final da rede. Preferi modificar as primeiras camadas, pois elas capturam características mais genéricas o que faz a rede conhecer melhor os novos dados."
   ]
  },
  {
   "cell_type": "code",
   "execution_count": null,
   "metadata": {
    "collapsed": true
   },
   "outputs": [],
   "source": []
  }
 ],
 "metadata": {
  "kernelspec": {
   "display_name": "Python 3",
   "language": "python",
   "name": "python3"
  },
  "language_info": {
   "codemirror_mode": {
    "name": "ipython",
    "version": 3
   },
   "file_extension": ".py",
   "mimetype": "text/x-python",
   "name": "python",
   "nbconvert_exporter": "python",
   "pygments_lexer": "ipython3",
   "version": "3.6.5"
  }
 },
 "nbformat": 4,
 "nbformat_minor": 1
}
